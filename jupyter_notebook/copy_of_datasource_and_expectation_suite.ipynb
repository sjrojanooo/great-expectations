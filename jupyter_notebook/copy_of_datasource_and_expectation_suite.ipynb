{
 "cells": [
  {
   "cell_type": "markdown",
   "id": "22b79e5e",
   "metadata": {},
   "source": [
    "# Create a new spark Datasource"
   ]
  },
  {
   "cell_type": "code",
   "execution_count": 118,
   "id": "5e731161",
   "metadata": {},
   "outputs": [],
   "source": [
    "import os\n",
    "from ruamel import yaml\n",
    "import great_expectations as gx\n",
    "from great_expectations.cli.datasource import sanitize_yaml_and_save_datasource, check_if_datasource_name_exists\n",
    "from great_expectations.core.batch import BatchRequest, RuntimeBatchRequest\n",
    "from great_expectations.core.expectation_configuration import ExpectationConfiguration\n",
    "from great_expectations.exceptions import DataContextError\n",
    "from great_expectations.data_context.util import file_relative_path\n",
    "from great_expectations.validator.validator import Validator\n",
    "\n",
    "from great_expectations.checkpoint import SimpleCheckpoint"
   ]
  },
  {
   "cell_type": "code",
   "execution_count": 103,
   "id": "fe9c224b",
   "metadata": {},
   "outputs": [],
   "source": [
    "# instantiate the great expectations context. This is very similar to activating a session \n",
    "context = gx.get_context()\n",
    "gx_data_context = gx.data_context.DataContext()"
   ]
  },
  {
   "cell_type": "markdown",
   "id": "a05f3666",
   "metadata": {},
   "source": [
    "## Customize Your Datasource Configuration\n",
    "\n",
    "**If you are new to Great Expectations Datasources,** you should check out our [how-to documentation](https://docs.greatexpectations.io/docs/guides/connecting_to_your_data/connect_to_data_overview)\n",
    "\n",
    "**My configuration is not so simple - are there more advanced options?**\n",
    "Glad you asked! Datasources are versatile. Please see our [How To Guides](https://docs.greatexpectations.io/docs/guides/connecting_to_your_data/connect_to_data_overview)!\n",
    "\n",
    "Give your datasource a unique name:"
   ]
  },
  {
   "cell_type": "code",
   "execution_count": 104,
   "id": "89c0b221",
   "metadata": {},
   "outputs": [
    {
     "name": "stdout",
     "output_type": "stream",
     "text": [
      "Attempting to instantiate class from config...\n",
      "\tInstantiating as a Datasource, since class_name is Datasource\n",
      "\tSuccessfully instantiated Datasource\n",
      "\n",
      "\n",
      "ExecutionEngine class name: SparkDFExecutionEngine\n",
      "Data Connectors:\n",
      "\tdefault_inferred_data_connector_name : InferredAssetFilesystemDataConnector\n",
      "\n",
      "\tAvailable data_asset_names (2 of 2):\n",
      "\t\tadidas_us_retail_sales_data-converted (1 of 1): ['adidas_us_retail_sales_data-converted.csv']\n",
      "\t\tadidas_us_retail_sales_data-raw (1 of 1): ['adidas_us_retail_sales_data-raw.csv']\n",
      "\n",
      "\tUnmatched data_references (0 of 0):[]\n",
      "\n",
      "\tdefault_runtime_data_connector_name:RuntimeDataConnector\n",
      "\n",
      "\tAvailable data_asset_names (0 of 0):\n",
      "\t\tNote : RuntimeDataConnector will not have data_asset_names until they are passed in through RuntimeBatchRequest\n",
      "\n",
      "\tUnmatched data_references (0 of 0): []\n",
      "\n"
     ]
    },
    {
     "data": {
      "text/plain": [
       "<great_expectations.datasource.new_datasource.Datasource at 0x7fabe006ffd0>"
      ]
     },
     "execution_count": 104,
     "metadata": {},
     "output_type": "execute_result"
    }
   ],
   "source": [
    "datasource_yaml = rf\"\"\"\n",
    "name: adidas_retail_sales\n",
    "class_name: Datasource\n",
    "execution_engine:\n",
    "    class_name: SparkDFExecutionEngine\n",
    "data_connectors:\n",
    "    default_runtime_data_connector_name:\n",
    "        class_name: RuntimeDataConnector\n",
    "        batch_identifiers:\n",
    "            - default_identifier_name\n",
    "    default_inferred_data_connector_name:\n",
    "        class_name: InferredAssetFilesystemDataConnector\n",
    "        base_directory:  ../data/\n",
    "        default_regex:\n",
    "            group_names:\n",
    "                - data_asset_name\n",
    "            pattern: (.*)\\.csv\n",
    "\"\"\"\n",
    "\n",
    "context.test_yaml_config(yaml_config=datasource_yaml)\n",
    "context.add_datasource(**yaml.load(datasource_yaml))\n"
   ]
  },
  {
   "cell_type": "markdown",
   "id": "34162605",
   "metadata": {},
   "source": [
    "# Connect to our Data \n",
    "\n",
    "#### RuntimeDataConnector and RuntimeBatchRequest\n",
    "* If we analyzed the yaml the configured yaml file above we can see that under `data_connectors` we have our class_name set as RuntimeDataConnector. This is a special kind of connector used to enable RuntimeBatchRequest, that allow you to use in_memory dataframes, sql queries, and even a file path to use are your data source when validating the expectations. \n",
    "* Below we will the configuration required to process an in_memory dataframe used to pass this request into the context validator. "
   ]
  },
  {
   "cell_type": "code",
   "execution_count": 105,
   "id": "e83e9719",
   "metadata": {},
   "outputs": [],
   "source": [
    "# here you could actually pass all of the file inside of the file path you provide under runtime paramters. \n",
    "# we just want to use the converted version \n",
    "from pyspark.sql import SparkSession \n",
    "spark = SparkSession.builder.getOrCreate()\n",
    "\n",
    "suite_name = \"adidas_test_suite\"\n",
    "\n",
    "in_memory_df = spark.read.csv(\"../../data/adidas_us_retail_sales_data-converted.csv\", header=True, sep=',')\n",
    "\n",
    "path = \"../../data/adidas_us_retail_sales_data-converted.csv\"\n",
    "\n",
    "runtime_batch_request = RuntimeBatchRequest(\n",
    "    datasource_name=\"adidas_retail_sales\",\n",
    "    data_connector_name=\"default_runtime_data_connector_name\",\n",
    "    data_asset_name=\"adidas_retail_sales\",  # This can be anything that identifies this data_asset for you\n",
    "    runtime_parameters={\"path\": path},  # Add your path here.\n",
    "    batch_identifiers={\"default_identifier_name\": \"adidas.retail_sales\"},\n",
    "    batch_spec_passthrough={\n",
    "        \"reader_method\": \"csv\", \n",
    "        \"reader_options\": {\"sep\": \",\", \"header\": True},\n",
    "    }\n",
    ")"
   ]
  },
  {
   "cell_type": "markdown",
   "id": "9b028341",
   "metadata": {},
   "source": [
    "# Create Expectation Suite \n",
    "### What are we doing? \n",
    "I am using spark to connect to our filesystem and wanted to provide a set of paramater to my batch request. The RuntimeBatchRequest is not as limited as a BatchRequest. We provide similar paramters as BatchRequest but can also apply the reader method, and options in our request. I found this highly useful, since there are time where we are expecting files with column names, and not just default index value names when validating data sources. "
   ]
  },
  {
   "cell_type": "code",
   "execution_count": 106,
   "id": "ca0635cf",
   "metadata": {},
   "outputs": [
    {
     "name": "stdout",
     "output_type": "stream",
     "text": [
      "9648\n"
     ]
    },
    {
     "data": {
      "application/vnd.jupyter.widget-view+json": {
       "model_id": "fc71da4e0ac4452d996b793f89d9b31a",
       "version_major": 2,
       "version_minor": 0
      },
      "text/plain": [
       "Calculating Metrics:   0%|          | 0/2 [00:00<?, ?it/s]"
      ]
     },
     "metadata": {},
     "output_type": "display_data"
    },
    {
     "name": "stdout",
     "output_type": "stream",
     "text": [
      "['invoice_date', 'retailer', 'retailer_id', 'region', 'state', 'city', 'product', 'price_per_unit', 'units_sold', 'total_sales', 'operating_profit', 'operating_margin', 'sales_method']\n",
      "+------------+-----------+-----------+---------+--------+--------+-------------------------+--------------+----------+-----------+----------------+----------------+------------+\n",
      "|invoice_date|retailer   |retailer_id|region   |state   |city    |product                  |price_per_unit|units_sold|total_sales|operating_profit|operating_margin|sales_method|\n",
      "+------------+-----------+-----------+---------+--------+--------+-------------------------+--------------+----------+-----------+----------------+----------------+------------+\n",
      "|2020-01-01  |Foot Locker|1185732    |Northeast|New York|New York|Men's Street Footwear    |50.0          |1200.0    |600000.0   |300000.0        |50.0            |In-store    |\n",
      "|2020-01-02  |Foot Locker|1185732    |Northeast|New York|New York|Men's Athletic Footwear  |50.0          |1000.0    |500000.0   |150000.0        |30.0            |In-store    |\n",
      "|2020-01-03  |Foot Locker|1185732    |Northeast|New York|New York|Women's Street Footwear  |40.0          |1000.0    |400000.0   |140000.0        |35.0            |In-store    |\n",
      "|2020-01-04  |Foot Locker|1185732    |Northeast|New York|New York|Women's Athletic Footwear|45.0          |850.0     |382500.0   |133875.0        |35.0            |In-store    |\n",
      "|2020-01-05  |Foot Locker|1185732    |Northeast|New York|New York|Men's Apparel            |60.0          |900.0     |540000.0   |162000.0        |30.0            |In-store    |\n",
      "+------------+-----------+-----------+---------+--------+--------+-------------------------+--------------+----------+-----------+----------------+----------------+------------+\n",
      "\n"
     ]
    }
   ],
   "source": [
    "# validator replaces the batch in v3 version \n",
    "# first we create our suite\n",
    "\n",
    "context.create_expectation_suite(\n",
    "    expectation_suite_name = suite_name, \n",
    "    overwrite_existing=True\n",
    ")\n",
    "\n",
    "validator = context.get_validator(\n",
    "    batch_request=runtime_batch_request, \n",
    "    expectation_suite_name=suite_name\n",
    ")\n",
    "\n",
    "validator_df = validator.active_batch.data.dataframe\n",
    "print(validator_df.count())\n",
    "column_names = [column for column in validator.columns()]\n",
    "print(column_names)\n",
    "\n",
    "validator_df.limit(5).show(truncate=False)"
   ]
  },
  {
   "cell_type": "code",
   "execution_count": 107,
   "id": "867289cf",
   "metadata": {},
   "outputs": [
    {
     "name": "stdout",
     "output_type": "stream",
     "text": [
      "{'data_asset_type': None, 'evaluation_parameters': {}, 'expectation_suite_name': 'adidas_test_suite', 'ge_cloud_id': None, 'expectations': [], 'meta': {'great_expectations_version': '0.15.43'}, '_data_context': {\n",
      "  \"anonymous_usage_statistics\": {\n",
      "    \"explicit_id\": true,\n",
      "    \"explicit_url\": false,\n",
      "    \"enabled\": true,\n",
      "    \"usage_statistics_url\": \"https://stats.greatexpectations.io/great_expectations/v1/usage_statistics\",\n",
      "    \"data_context_id\": \"3faccf3c-3a91-4315-a9b8-c8646e5a54dd\"\n",
      "  },\n",
      "  \"checkpoint_store_name\": \"checkpoint_store\",\n",
      "  \"config_variables_file_path\": \"uncommitted/config_variables.yml\",\n",
      "  \"config_version\": 3.0,\n",
      "  \"data_docs_sites\": {\n",
      "    \"local_site\": {\n",
      "      \"class_name\": \"SiteBuilder\",\n",
      "      \"show_how_to_buttons\": true,\n",
      "      \"store_backend\": {\n",
      "        \"class_name\": \"TupleFilesystemStoreBackend\",\n",
      "        \"base_directory\": \"uncommitted/data_docs/local_site/\"\n",
      "      },\n",
      "      \"site_index_builder\": {\n",
      "        \"class_name\": \"DefaultSiteIndexBuilder\"\n",
      "      }\n",
      "    }\n",
      "  },\n",
      "  \"datasources\": {\n",
      "    \"adidas_retail_sales\": {\n",
      "      \"data_connectors\": {\n",
      "        \"default_runtime_data_connector_name\": {\n",
      "          \"name\": \"default_runtime_data_connector_name\",\n",
      "          \"class_name\": \"RuntimeDataConnector\",\n",
      "          \"batch_identifiers\": [\n",
      "            \"default_identifier_name\"\n",
      "          ],\n",
      "          \"module_name\": \"great_expectations.datasource.data_connector\"\n",
      "        },\n",
      "        \"default_inferred_data_connector_name\": {\n",
      "          \"base_directory\": \"../data/\",\n",
      "          \"default_regex\": {\n",
      "            \"group_names\": [\n",
      "              \"data_asset_name\"\n",
      "            ],\n",
      "            \"pattern\": \"(.*)\\\\.csv\"\n",
      "          },\n",
      "          \"name\": \"default_inferred_data_connector_name\",\n",
      "          \"class_name\": \"InferredAssetFilesystemDataConnector\",\n",
      "          \"module_name\": \"great_expectations.datasource.data_connector\"\n",
      "        }\n",
      "      },\n",
      "      \"name\": \"adidas_retail_sales\",\n",
      "      \"class_name\": \"Datasource\",\n",
      "      \"execution_engine\": {\n",
      "        \"class_name\": \"SparkDFExecutionEngine\",\n",
      "        \"module_name\": \"great_expectations.execution_engine\"\n",
      "      },\n",
      "      \"module_name\": \"great_expectations.datasource\"\n",
      "    }\n",
      "  },\n",
      "  \"evaluation_parameter_store_name\": \"evaluation_parameter_store\",\n",
      "  \"expectations_store_name\": \"expectations_store\",\n",
      "  \"include_rendered_content\": {\n",
      "    \"globally\": false,\n",
      "    \"expectation_suite\": false,\n",
      "    \"expectation_validation_result\": false\n",
      "  },\n",
      "  \"plugins_directory\": \"plugins/\",\n",
      "  \"stores\": {\n",
      "    \"expectations_store\": {\n",
      "      \"class_name\": \"ExpectationsStore\",\n",
      "      \"store_backend\": {\n",
      "        \"class_name\": \"TupleFilesystemStoreBackend\",\n",
      "        \"base_directory\": \"expectations/\"\n",
      "      }\n",
      "    },\n",
      "    \"validations_store\": {\n",
      "      \"class_name\": \"ValidationsStore\",\n",
      "      \"store_backend\": {\n",
      "        \"class_name\": \"TupleFilesystemStoreBackend\",\n",
      "        \"base_directory\": \"uncommitted/validations/\"\n",
      "      }\n",
      "    },\n",
      "    \"evaluation_parameter_store\": {\n",
      "      \"class_name\": \"EvaluationParameterStore\"\n",
      "    },\n",
      "    \"checkpoint_store\": {\n",
      "      \"class_name\": \"CheckpointStore\",\n",
      "      \"store_backend\": {\n",
      "        \"class_name\": \"TupleFilesystemStoreBackend\",\n",
      "        \"suppress_store_backend_id\": true,\n",
      "        \"base_directory\": \"checkpoints/\"\n",
      "      }\n",
      "    },\n",
      "    \"profiler_store\": {\n",
      "      \"class_name\": \"ProfilerStore\",\n",
      "      \"store_backend\": {\n",
      "        \"class_name\": \"TupleFilesystemStoreBackend\",\n",
      "        \"suppress_store_backend_id\": true,\n",
      "        \"base_directory\": \"profilers/\"\n",
      "      }\n",
      "    }\n",
      "  },\n",
      "  \"validations_store_name\": \"validations_store\"\n",
      "}, 'execution_engine_type': 'SparkDFExecutionEngine'}\n"
     ]
    }
   ],
   "source": [
    "# access our suite\n",
    "suite = validator._expectation_suite\n",
    "print(vars(suite))"
   ]
  },
  {
   "cell_type": "code",
   "execution_count": 122,
   "id": "7ed88470",
   "metadata": {},
   "outputs": [
    {
     "data": {
      "text/plain": [
       "{\"kwargs\": {\"column_list\": [\"invoice_date\", \"retailer\", \"retailer_id\", \"region\", \"state\", \"city\", \"product\", \"price_per_unit\", \"units_sold\", \"total_sales\", \"operating_profit\", \"operating_margin\", \"sales_method\"]}, \"expectation_type\": \"expect_table_columns_to_match_ordered_list\", \"meta\": {\"notes\": {\"format\": \"markdown\", \"content\": \"columns must appear in this order\"}}}"
      ]
     },
     "execution_count": 122,
     "metadata": {},
     "output_type": "execute_result"
    }
   ],
   "source": [
    "# expectation to expect all columns to be in the order display in the the column list under the kwargs property. \n",
    "column_list_expectation_configs = ExpectationConfiguration(\n",
    "   expectation_type=\"expect_table_columns_to_match_ordered_list\",\n",
    "   kwargs={\n",
    "      \"column_list\": ['invoice_date', 'retailer', 'retailer_id', \n",
    "                      'region', 'state', 'city', 'product', 'price_per_unit',\n",
    "                      'units_sold', 'total_sales', 'operating_profit', \n",
    "                      'operating_margin', 'sales_method']\n",
    "   },\n",
    "   meta={\n",
    "      \"notes\": {\n",
    "         \"format\": \"markdown\",\n",
    "         \"content\": \"columns must appear in this order\"\n",
    "      }\n",
    "   }\n",
    ")\n",
    "\n",
    "suite.add_expectation(expectation_configuration=column_list_expectation_configs)"
   ]
  },
  {
   "cell_type": "code",
   "execution_count": 123,
   "id": "ae764d60",
   "metadata": {},
   "outputs": [
    {
     "data": {
      "text/plain": [
       "{\"kwargs\": {\"column\": \"retailer_id\", \"mostly\": 1.0}, \"expectation_type\": \"expect_column_values_to_not_be_null\", \"meta\": {\"notes\": {\"format\": \"markdown\", \"content\": \"We need all sales records to have a retailer id\"}}}"
      ]
     },
     "execution_count": 123,
     "metadata": {},
     "output_type": "execute_result"
    }
   ],
   "source": [
    "# expectations to expect all values to not be null \n",
    "not_null_column_expectation_configs = ExpectationConfiguration(\n",
    "   expectation_type=\"expect_column_values_to_not_be_null\",\n",
    "   kwargs={\n",
    "      \"column\": \"retailer_id\",\n",
    "      \"mostly\": 1.0,\n",
    "   },\n",
    "   meta={\n",
    "      \"notes\": {\n",
    "         \"format\": \"markdown\",\n",
    "         \"content\": \"We need all sales records to have a retailer id\"\n",
    "      }\n",
    "   }\n",
    ")\n",
    "suite.add_expectation(expectation_configuration=not_null_column_expectation_configs)"
   ]
  },
  {
   "cell_type": "code",
   "execution_count": null,
   "id": "c3634ce3",
   "metadata": {},
   "outputs": [],
   "source": [
    "expectation_configs = ExpectationConfiguration(\n",
    "   expectation_type=\"expect_column_distinct_values_to_be_in_set\",\n",
    "   kwargs={\n",
    "      \"column\": \"retailers\",\n",
    "       \n",
    "   },\n",
    "   meta={\n",
    "      \"notes\": {\n",
    "         \"format\": \"markdown\",\n",
    "         \"content\": \"We need all sales records to have a retailer id\"\n",
    "      }\n",
    "   }\n",
    ")\n",
    "suite.add_expectation(expectation_configuration=expectation_configs)"
   ]
  },
  {
   "cell_type": "code",
   "execution_count": 111,
   "id": "34eb2f9e",
   "metadata": {},
   "outputs": [],
   "source": [
    "validator.save_expectation_suite(discard_failed_expectations=False)"
   ]
  },
  {
   "cell_type": "code",
   "execution_count": 112,
   "id": "af577608",
   "metadata": {},
   "outputs": [
    {
     "name": "stdout",
     "output_type": "stream",
     "text": [
      "{'_data_context': {\n",
      "  \"anonymous_usage_statistics\": {\n",
      "    \"explicit_id\": true,\n",
      "    \"explicit_url\": false,\n",
      "    \"enabled\": true,\n",
      "    \"usage_statistics_url\": \"https://stats.greatexpectations.io/great_expectations/v1/usage_statistics\",\n",
      "    \"data_context_id\": \"3faccf3c-3a91-4315-a9b8-c8646e5a54dd\"\n",
      "  },\n",
      "  \"checkpoint_store_name\": \"checkpoint_store\",\n",
      "  \"config_variables_file_path\": \"uncommitted/config_variables.yml\",\n",
      "  \"config_version\": 3.0,\n",
      "  \"data_docs_sites\": {\n",
      "    \"local_site\": {\n",
      "      \"class_name\": \"SiteBuilder\",\n",
      "      \"show_how_to_buttons\": true,\n",
      "      \"store_backend\": {\n",
      "        \"class_name\": \"TupleFilesystemStoreBackend\",\n",
      "        \"base_directory\": \"uncommitted/data_docs/local_site/\"\n",
      "      },\n",
      "      \"site_index_builder\": {\n",
      "        \"class_name\": \"DefaultSiteIndexBuilder\"\n",
      "      }\n",
      "    }\n",
      "  },\n",
      "  \"datasources\": {\n",
      "    \"adidas_retail_sales\": {\n",
      "      \"data_connectors\": {\n",
      "        \"default_runtime_data_connector_name\": {\n",
      "          \"name\": \"default_runtime_data_connector_name\",\n",
      "          \"class_name\": \"RuntimeDataConnector\",\n",
      "          \"batch_identifiers\": [\n",
      "            \"default_identifier_name\"\n",
      "          ],\n",
      "          \"module_name\": \"great_expectations.datasource.data_connector\"\n",
      "        },\n",
      "        \"default_inferred_data_connector_name\": {\n",
      "          \"base_directory\": \"../data/\",\n",
      "          \"default_regex\": {\n",
      "            \"group_names\": [\n",
      "              \"data_asset_name\"\n",
      "            ],\n",
      "            \"pattern\": \"(.*)\\\\.csv\"\n",
      "          },\n",
      "          \"name\": \"default_inferred_data_connector_name\",\n",
      "          \"class_name\": \"InferredAssetFilesystemDataConnector\",\n",
      "          \"module_name\": \"great_expectations.datasource.data_connector\"\n",
      "        }\n",
      "      },\n",
      "      \"name\": \"adidas_retail_sales\",\n",
      "      \"class_name\": \"Datasource\",\n",
      "      \"execution_engine\": {\n",
      "        \"class_name\": \"SparkDFExecutionEngine\",\n",
      "        \"module_name\": \"great_expectations.execution_engine\"\n",
      "      },\n",
      "      \"module_name\": \"great_expectations.datasource\"\n",
      "    }\n",
      "  },\n",
      "  \"evaluation_parameter_store_name\": \"evaluation_parameter_store\",\n",
      "  \"expectations_store_name\": \"expectations_store\",\n",
      "  \"include_rendered_content\": {\n",
      "    \"globally\": false,\n",
      "    \"expectation_suite\": false,\n",
      "    \"expectation_validation_result\": false\n",
      "  },\n",
      "  \"plugins_directory\": \"plugins/\",\n",
      "  \"stores\": {\n",
      "    \"expectations_store\": {\n",
      "      \"class_name\": \"ExpectationsStore\",\n",
      "      \"store_backend\": {\n",
      "        \"class_name\": \"TupleFilesystemStoreBackend\",\n",
      "        \"base_directory\": \"expectations/\"\n",
      "      }\n",
      "    },\n",
      "    \"validations_store\": {\n",
      "      \"class_name\": \"ValidationsStore\",\n",
      "      \"store_backend\": {\n",
      "        \"class_name\": \"TupleFilesystemStoreBackend\",\n",
      "        \"base_directory\": \"uncommitted/validations/\"\n",
      "      }\n",
      "    },\n",
      "    \"evaluation_parameter_store\": {\n",
      "      \"class_name\": \"EvaluationParameterStore\"\n",
      "    },\n",
      "    \"checkpoint_store\": {\n",
      "      \"class_name\": \"CheckpointStore\",\n",
      "      \"store_backend\": {\n",
      "        \"class_name\": \"TupleFilesystemStoreBackend\",\n",
      "        \"suppress_store_backend_id\": true,\n",
      "        \"base_directory\": \"checkpoints/\"\n",
      "      }\n",
      "    },\n",
      "    \"profiler_store\": {\n",
      "      \"class_name\": \"ProfilerStore\",\n",
      "      \"store_backend\": {\n",
      "        \"class_name\": \"TupleFilesystemStoreBackend\",\n",
      "        \"suppress_store_backend_id\": true,\n",
      "        \"base_directory\": \"profilers/\"\n",
      "      }\n",
      "    }\n",
      "  },\n",
      "  \"validations_store_name\": \"validations_store\"\n",
      "}, '_metrics_calculator': <great_expectations.validator.metrics_calculator.MetricsCalculator object at 0x7fabe006f4f0>, '_execution_engine': <great_expectations.execution_engine.sparkdf_execution_engine.SparkDFExecutionEngine object at 0x7fac28dd9a90>, '_expose_dataframe_methods': False, 'interactive_evaluation': True, '_expectation_suite': {\n",
      "  \"data_asset_type\": null,\n",
      "  \"ge_cloud_id\": null,\n",
      "  \"expectation_suite_name\": \"adidas_test_suite\",\n",
      "  \"expectations\": [\n",
      "    {\n",
      "      \"kwargs\": {\n",
      "        \"column_list\": [\n",
      "          \"invoice_date\",\n",
      "          \"retailer\",\n",
      "          \"retailer_id\",\n",
      "          \"region\",\n",
      "          \"state\",\n",
      "          \"city\",\n",
      "          \"product\",\n",
      "          \"price_per_unit\",\n",
      "          \"units_sold\",\n",
      "          \"total_sales\",\n",
      "          \"operating_profit\",\n",
      "          \"operating_margin\",\n",
      "          \"sales_method\"\n",
      "        ]\n",
      "      },\n",
      "      \"expectation_type\": \"expect_table_columns_to_match_ordered_list\",\n",
      "      \"meta\": {\n",
      "        \"notes\": {\n",
      "          \"format\": \"markdown\",\n",
      "          \"content\": \"columns must appear in this order\"\n",
      "        }\n",
      "      }\n",
      "    },\n",
      "    {\n",
      "      \"kwargs\": {\n",
      "        \"column\": \"retailer_id\",\n",
      "        \"mostly\": 1.0\n",
      "      },\n",
      "      \"expectation_type\": \"expect_column_values_to_not_be_null\",\n",
      "      \"meta\": {\n",
      "        \"notes\": {\n",
      "          \"format\": \"markdown\",\n",
      "          \"content\": \"We need all sales records to have a retailer id\"\n",
      "        }\n",
      "      }\n",
      "    }\n",
      "  ],\n",
      "  \"meta\": {\n",
      "    \"great_expectations_version\": \"0.15.43\"\n",
      "  }\n",
      "}, '_default_expectation_args': {'include_config': True, 'catch_exceptions': False, 'result_format': 'BASIC'}, '_active_validation': False, '_include_rendered_content': False}\n"
     ]
    }
   ],
   "source": [
    "# we can access the already configured expectations like this or develop some more complex expectations ourselves. \n",
    "print(vars(validator))"
   ]
  },
  {
   "cell_type": "code",
   "execution_count": 116,
   "id": "828a56fd",
   "metadata": {},
   "outputs": [
    {
     "name": "stdout",
     "output_type": "stream",
     "text": [
      "6\n"
     ]
    }
   ],
   "source": [
    "print(validator_df.select('retailer').distinct().count())"
   ]
  },
  {
   "cell_type": "code",
   "execution_count": 120,
   "id": "11f881c1",
   "metadata": {},
   "outputs": [
    {
     "data": {
      "application/vnd.jupyter.widget-view+json": {
       "model_id": "10a1650758c24e17af5bc02e09af70d5",
       "version_major": 2,
       "version_minor": 0
      },
      "text/plain": [
       "Calculating Metrics:   0%|          | 0/8 [00:00<?, ?it/s]"
      ]
     },
     "metadata": {},
     "output_type": "display_data"
    }
   ],
   "source": [
    "# build the checkpoint configuration\n",
    "checkpoint_config = {\n",
    "    \"class_name\": \"SimpleCheckpoint\", \n",
    "    \"validations\":[\n",
    "        {\n",
    "            \"batch_request\":runtime_batch_request, \n",
    "            \"expectation_suite_name\": suite_name\n",
    "        }\n",
    "    ]\n",
    "}\n",
    "\n",
    "checkpoint = SimpleCheckpoint(\n",
    "    f\"_tmp_checkpoint_{suite_name}\", \n",
    "    gx_data_context, \n",
    "    **checkpoint_config\n",
    ")\n",
    "\n",
    "checkpoint_result = checkpoint.run()\n",
    "\n",
    "context.build_data_docs()\n",
    "\n",
    "validation_result_identifier = checkpoint_result.list_validation_result_identifiers()[0]\n",
    "\n",
    "gx_data_context.open_data_docs(resource_identifier=validation_result_identifier)"
   ]
  },
  {
   "cell_type": "code",
   "execution_count": null,
   "id": "b000a113",
   "metadata": {},
   "outputs": [],
   "source": []
  }
 ],
 "metadata": {
  "kernelspec": {
   "display_name": "Python 3 (ipykernel)",
   "language": "python",
   "name": "python3"
  },
  "language_info": {
   "codemirror_mode": {
    "name": "ipython",
    "version": 3
   },
   "file_extension": ".py",
   "mimetype": "text/x-python",
   "name": "python",
   "nbconvert_exporter": "python",
   "pygments_lexer": "ipython3",
   "version": "3.9.7"
  }
 },
 "nbformat": 4,
 "nbformat_minor": 5
}
